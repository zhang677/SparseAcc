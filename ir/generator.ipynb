{
 "cells": [
  {
   "cell_type": "code",
   "execution_count": 3,
   "metadata": {},
   "outputs": [
    {
     "name": "stdout",
     "output_type": "stream",
     "text": [
      "[{'op_type': 'mm', 'op_name': 'fc1', 'op_input_data': {'data_name': 'input_feature', 'data_shape': [19717, 512], 'read_data_path': 'input_feature.npy'}, 'op_acc_data': None, 'op_output_data': {'data_name': 'fc1_out_feature', 'data_shape': [19717, 128]}, 'op_weight': {'data_name': 'fc1_weight', 'data_shape': [512, 128], 'read_data_path': 'fc1_weight.npy'}, 'op_bias': {'data_name': 'fc1_bias', 'data_shape': [1, 128], 'read_data_path': 'fc1_bias.npy'}, 'accumulation': False, 'bias': True, 'relu': False}, {'op_type': 'agg', 'op_name': 'agg1', 'op_input_data': {'data_name': 'fc1_out_feature', 'data_shape': [19717, 128]}, 'op_output_data': {'data_name': 'agg1_out_feature', 'data_shape': [19717, 128]}, 'op_adj': {'data_name': 'agg1_adj', 'data_shape': [19717, 19717], 'non_zero': 88651, 'read_data_path': 'agg1_adj.npy', 'read_index_path': 'agg1_index.npy'}, 'apply': True, 'reduce_type': 'sum', 'relu': True}, {'op_type': 'mm', 'op_name': 'fc2', 'op_input_data': {'data_name': 'agg1_out_feature', 'data_shape': [19717, 128]}, 'op_acc_data': None, 'op_output_data': {'data_name': 'fc2_out_feature', 'data_shape': [19717, 16]}, 'op_weight': {'data_name': 'fc2_weight', 'data_shape': [128, 16], 'read_data_path': 'fc2_weight.npy'}, 'op_bias': {'data_name': 'fc2_bias', 'data_shape': [1, 16], 'read_data_path': 'fc2_bias.npy'}, 'accumulation': False, 'bias': True, 'relu': False}, {'op_type': 'agg', 'op_name': 'agg2', 'op_input_data': {'data_name': 'fc2_out_feature', 'data_shape': [19717, 16]}, 'op_output_data': {'data_name': 'agg2_out_feature', 'data_shape': [19717, 16]}, 'op_adj': {'data_name': 'agg2_adj', 'data_shape': [19717, 19717], 'non_zero': 88651, 'read_data_path': 'agg2_adj.npy', 'read_index_path': 'agg2_index.npy'}, 'apply': True, 'reduce_type': 'sum', 'relu': True}]\n"
     ]
    }
   ],
   "source": [
    "import yaml\n",
    "from yaml.loader import SafeLoader\n",
    "\n",
    "# Open the file and load the file\n",
    "with open('ir_example_pubmed_gcn_2_128.yaml') as f:\n",
    "    data = yaml.load(f, Loader=SafeLoader)\n",
    "    print(data)"
   ]
  }
 ],
 "metadata": {
  "kernelspec": {
   "display_name": "Python 3.9.7 ('TVM_torch': conda)",
   "language": "python",
   "name": "python3"
  },
  "language_info": {
   "codemirror_mode": {
    "name": "ipython",
    "version": 3
   },
   "file_extension": ".py",
   "mimetype": "text/x-python",
   "name": "python",
   "nbconvert_exporter": "python",
   "pygments_lexer": "ipython3",
   "version": "3.9.7"
  },
  "orig_nbformat": 4,
  "vscode": {
   "interpreter": {
    "hash": "fcda534459351ecc57fa336edba6dc9ce1979ef7e4ed81f54ba70140eb814979"
   }
  }
 },
 "nbformat": 4,
 "nbformat_minor": 2
}

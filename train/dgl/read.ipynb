{
 "cells": [
  {
   "cell_type": "code",
   "execution_count": 13,
   "metadata": {},
   "outputs": [
    {
     "name": "stdout",
     "output_type": "stream",
     "text": [
      "{'accumulation': False, 'bias': False, 'op_acc_data': None, 'op_input_data': {'data_name': 'feat1', 'data_shape': [19717, 512], 'read_data_path': 'feat1.npy'}, 'op_name': 'fc1', 'op_output_data': {'data_name': 'feat2', 'data_shape': [19717, 16], 'write_data_path': 'feat2.npy'}, 'op_type': 'mm', 'op_weight': {'data_name': 'fc1_weight', 'data_shape': [512, 16], 'read_data_path': 'fc1_weight.npy'}, 'relu': False}\n"
     ]
    }
   ],
   "source": [
    "import yaml\n",
    "f = open(\"../trace/ir_generated.yaml\", \"r\")\n",
    "info = yaml.safe_load(f)\n",
    "print(info[0])\n"
   ]
  },
  {
   "cell_type": "code",
   "execution_count": 14,
   "metadata": {},
   "outputs": [
    {
     "name": "stdout",
     "output_type": "stream",
     "text": [
      "{'apply': True, 'bias': False, 'op_adj': {'data_name': 'agg1_adj', 'data_shape': [19717, 19717], 'non_zeros': 108365, 'read_data_path': 'agg1_adj.npy', 'read_index_path': 'agg1_index.npy'}, 'op_input_data': {'data_name': 'feat2', 'data_shape': [19717, 16], 'read_data_path': 'feat2.npy'}, 'op_name': 'agg1', 'op_output_data': {'data_name': 'feat3', 'data_shape': [19717, 16], 'write_data_path': 'feat3.npy'}, 'op_type': 'agg', 'reduce_type': 'sum', 'relu': True}\n"
     ]
    }
   ],
   "source": [
    "print(info[1])"
   ]
  },
  {
   "cell_type": "code",
   "execution_count": 15,
   "metadata": {},
   "outputs": [
    {
     "name": "stdout",
     "output_type": "stream",
     "text": [
      "{'apply': True, 'bias': False, 'op_adj': {'data_name': 'agg2_adj', 'data_shape': [19717, 19717], 'non_zeros': 108365, 'read_data_path': 'agg2_adj.npy', 'read_index_path': 'agg2_index.npy'}, 'op_input_data': {'data_name': 'feat3', 'data_shape': [19717, 16], 'read_data_path': 'feat3.npy'}, 'op_name': 'agg2', 'op_output_data': {'data_name': 'feat4', 'data_shape': [19717, 16], 'write_data_path': 'feat4.npy'}, 'op_type': 'agg', 'reduce_type': 'sum', 'relu': False}\n"
     ]
    }
   ],
   "source": [
    "print(info[2])"
   ]
  },
  {
   "cell_type": "code",
   "execution_count": 16,
   "metadata": {},
   "outputs": [
    {
     "name": "stdout",
     "output_type": "stream",
     "text": [
      "{'accumulation': False, 'bias': False, 'op_acc_data': None, 'op_input_data': {'data_name': 'feat4', 'data_shape': [19717, 16], 'read_data_path': 'feat4.npy'}, 'op_name': 'fc2', 'op_output_data': {'data_name': 'feat5', 'data_shape': [19717, 16], 'write_data_path': 'feat5.npy'}, 'op_type': 'mm', 'op_weight': {'data_name': 'fc2_weight', 'data_shape': [16, 16], 'read_data_path': 'fc2_weight.npy'}, 'relu': False}\n"
     ]
    }
   ],
   "source": [
    "print(info[3])"
   ]
  }
 ],
 "metadata": {
  "kernelspec": {
   "display_name": "Python 3.9.7 ('TVM_torch': conda)",
   "language": "python",
   "name": "python3"
  },
  "language_info": {
   "codemirror_mode": {
    "name": "ipython",
    "version": 3
   },
   "file_extension": ".py",
   "mimetype": "text/x-python",
   "name": "python",
   "nbconvert_exporter": "python",
   "pygments_lexer": "ipython3",
   "version": "3.9.7"
  },
  "orig_nbformat": 4,
  "vscode": {
   "interpreter": {
    "hash": "fcda534459351ecc57fa336edba6dc9ce1979ef7e4ed81f54ba70140eb814979"
   }
  }
 },
 "nbformat": 4,
 "nbformat_minor": 2
}

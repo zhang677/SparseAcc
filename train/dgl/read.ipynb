{
 "cells": [
  {
   "cell_type": "code",
   "execution_count": 7,
   "metadata": {},
   "outputs": [
    {
     "name": "stdout",
     "output_type": "stream",
     "text": [
      "{'accumulation': False, 'bias': True, 'op_acc_data': None, 'op_bias': {'data_name': 'fc1_bias', 'data_shape': [1, 16], 'read_data_path': 'fc1_bias.npy'}, 'op_input_data': {'data_name': 'input_feature', 'data_shape': [19717, 512], 'read_data_path': 'input_feature.npy'}, 'op_name': 'fc1', 'op_output_data': {'data_name': 'fc1_out_feature', 'data_shape': [19717, 16], 'write_data_path': 'fc1_out_feature.npy'}, 'op_type': 'mm', 'op_weight': {'data_name': 'fc1_weight', 'data_shape': [512, 16], 'read_data_path': 'fc1_weight.npy'}, 'relu': True}\n"
     ]
    }
   ],
   "source": [
    "import yaml\n",
    "f = open(\"../trace/ir_generated.yaml\", \"r\")\n",
    "info = yaml.safe_load(f)\n",
    "print(info[0])\n"
   ]
  },
  {
   "cell_type": "code",
   "execution_count": 8,
   "metadata": {},
   "outputs": [
    {
     "name": "stdout",
     "output_type": "stream",
     "text": [
      "{'apply': True, 'op_adj': {'data_name': 'agg1_adj', 'data_shape': [19717, 19717], 'non_zeros': 108365, 'read_data_path': 'agg1_adj.npy', 'read_index_path': 'agg1_index.npy'}, 'op_input_data': {'data_name': 'fc1_out_feature', 'data_shape': [19717, 16], 'read_data_path': 'fc1_out_feature.npy'}, 'op_name': 'agg1', 'op_output_data': {'data_name': 'agg1_out_feature', 'data_shape': [19717, 16], 'write_data_path': 'agg1_out_feature.npy'}, 'op_type': 'agg', 'reduce_type': 'sum', 'relu': True}\n"
     ]
    }
   ],
   "source": [
    "print(info[1])"
   ]
  },
  {
   "cell_type": "code",
   "execution_count": 9,
   "metadata": {},
   "outputs": [
    {
     "name": "stdout",
     "output_type": "stream",
     "text": [
      "{'accumulation': False, 'bias': True, 'op_acc_data': None, 'op_bias': {'data_name': 'fc2_bias', 'data_shape': [1, 16], 'read_data_path': 'fc2_bias.npy'}, 'op_input_data': {'data_name': 'agg1_out_feature', 'data_shape': [19717, 16], 'read_data_path': 'agg1_out_feature.npy'}, 'op_name': 'fc2', 'op_output_data': {'data_name': 'fc2_out_feature', 'data_shape': [19717, 16], 'write_data_path': 'fc2_out_feature.npy'}, 'op_type': 'mm', 'op_weight': {'data_name': 'fc2_weight', 'data_shape': [16, 16], 'read_data_path': 'fc2_weight.npy'}, 'relu': False}\n"
     ]
    }
   ],
   "source": [
    "print(info[2])"
   ]
  },
  {
   "cell_type": "code",
   "execution_count": 10,
   "metadata": {},
   "outputs": [
    {
     "name": "stdout",
     "output_type": "stream",
     "text": [
      "{'apply': True, 'op_adj': {'data_name': 'agg2_adj', 'data_shape': [19717, 19717], 'non_zeros': 108365, 'read_data_path': 'agg2_adj.npy', 'read_index_path': 'agg2_index.npy'}, 'op_input_data': {'data_name': 'fc2_out_feature', 'data_shape': [19717, 16], 'read_data_path': 'fc2_out_feature.npy'}, 'op_name': 'agg2', 'op_output_data': {'data_name': 'agg2_out_feature', 'data_shape': [19717, 16], 'write_data_path': 'agg2_out_feature.npy'}, 'op_type': 'agg', 'reduce_type': 'sum', 'relu': False}\n"
     ]
    }
   ],
   "source": [
    "print(info[3])"
   ]
  },
  {
   "cell_type": "code",
   "execution_count": 11,
   "metadata": {},
   "outputs": [],
   "source": [
    "import numpy as np\n",
    "true_output = np.load(\"../trace/enlarge_true_output.npy\")\n",
    "np.savetxt(\"test.out\", true_output)\n",
    "true_output = np.load(\"../trace/feat5.npy\")\n",
    "np.savetxt(\"feat.out\", true_output)"
   ]
  }
 ],
 "metadata": {
  "kernelspec": {
   "display_name": "Python 3.9.7 ('TVM_torch': conda)",
   "language": "python",
   "name": "python3"
  },
  "language_info": {
   "codemirror_mode": {
    "name": "ipython",
    "version": 3
   },
   "file_extension": ".py",
   "mimetype": "text/x-python",
   "name": "python",
   "nbconvert_exporter": "python",
   "pygments_lexer": "ipython3",
   "version": "3.9.7"
  },
  "orig_nbformat": 4,
  "vscode": {
   "interpreter": {
    "hash": "fcda534459351ecc57fa336edba6dc9ce1979ef7e4ed81f54ba70140eb814979"
   }
  }
 },
 "nbformat": 4,
 "nbformat_minor": 2
}

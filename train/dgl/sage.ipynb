{
 "cells": [
  {
   "cell_type": "code",
   "execution_count": 2,
   "metadata": {},
   "outputs": [],
   "source": [
    "import os\n",
    "import torch\n",
    "root = \"../IR_and_data/sage-mean-2-16-pubmed\"\n",
    "model_path = os.path.join(root, \"model.pt\")    \n",
    "model = torch.load(model_path)"
   ]
  },
  {
   "cell_type": "code",
   "execution_count": 3,
   "metadata": {},
   "outputs": [
    {
     "data": {
      "text/plain": [
       "SAGEConv(\n",
       "  (feat_drop): Dropout(p=0.0, inplace=False)\n",
       "  (fc_self): Linear(in_features=500, out_features=16, bias=False)\n",
       "  (fc_neigh): Linear(in_features=500, out_features=16, bias=False)\n",
       ")"
      ]
     },
     "execution_count": 3,
     "metadata": {},
     "output_type": "execute_result"
    }
   ],
   "source": [
    "model.layers[0]"
   ]
  },
  {
   "cell_type": "code",
   "execution_count": 4,
   "metadata": {},
   "outputs": [
    {
     "data": {
      "text/plain": [
       "torch.Size([16, 500])"
      ]
     },
     "execution_count": 4,
     "metadata": {},
     "output_type": "execute_result"
    }
   ],
   "source": [
    "layer = model.layers[0]\n",
    "layer.state_dict()['fc_neigh.weight'].shape"
   ]
  },
  {
   "cell_type": "code",
   "execution_count": 5,
   "metadata": {},
   "outputs": [],
   "source": [
    "root = \"../IR_and_data/gcn-2-16-pubmed\"\n",
    "gcn_model_path = os.path.join(root, \"model.pt\")    \n",
    "gcn_model = torch.load(gcn_model_path)"
   ]
  },
  {
   "cell_type": "code",
   "execution_count": 6,
   "metadata": {},
   "outputs": [
    {
     "data": {
      "text/plain": [
       "torch.Size([500, 16])"
      ]
     },
     "execution_count": 6,
     "metadata": {},
     "output_type": "execute_result"
    }
   ],
   "source": [
    "layer = gcn_model.layers[0]\n",
    "layer.state_dict()['weight'].shape"
   ]
  },
  {
   "cell_type": "code",
   "execution_count": 14,
   "metadata": {},
   "outputs": [
    {
     "name": "stdout",
     "output_type": "stream",
     "text": [
      "torch.Size([20, 128])\n"
     ]
    },
    {
     "data": {
      "text/plain": [
       "torch.Size([128, 20])"
      ]
     },
     "execution_count": 14,
     "metadata": {},
     "output_type": "execute_result"
    }
   ],
   "source": [
    "import torch.nn as nn\n",
    "m = nn.Linear(128, 20)\n",
    "input = torch.randn(30, 128)\n",
    "m(input)\n",
    "print(m.weight.shape)\n",
    "m.weight.transpose(dim0=1, dim1=0).shape"
   ]
  }
 ],
 "metadata": {
  "kernelspec": {
   "display_name": "TVM_torch",
   "language": "python",
   "name": "python3"
  },
  "language_info": {
   "codemirror_mode": {
    "name": "ipython",
    "version": 3
   },
   "file_extension": ".py",
   "mimetype": "text/x-python",
   "name": "python",
   "nbconvert_exporter": "python",
   "pygments_lexer": "ipython3",
   "version": "3.9.7 (default, Sep 16 2021, 13:09:58) \n[GCC 7.5.0]"
  },
  "orig_nbformat": 4,
  "vscode": {
   "interpreter": {
    "hash": "fcda534459351ecc57fa336edba6dc9ce1979ef7e4ed81f54ba70140eb814979"
   }
  }
 },
 "nbformat": 4,
 "nbformat_minor": 2
}
